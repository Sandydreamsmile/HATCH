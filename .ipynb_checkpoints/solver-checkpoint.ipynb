{
 "cells": [
  {
   "cell_type": "markdown",
   "metadata": {},
   "source": [
    "## Training Cluster Algprithm GMM for Resourse Allocation"
   ]
  },
  {
   "cell_type": "code",
   "execution_count": null,
   "metadata": {},
   "outputs": [],
   "source": [
    "import sklearn\n",
    "import io\n",
    "import numpy as np\n",
    "from sklearn.mixture import GaussianMixture\n",
    "\n",
    "# data: (state, action, reward)\n",
    "\n",
    "gmm = GaussianMixture(n_components=10).fit(state)\n",
    "means = gmm.means_\n",
    "pai = gmm.weights_\n",
    "\n",
    "contextdic  = dict(zip([i for i in range(10)], gmm.means_))"
   ]
  },
  {
   "cell_type": "markdown",
   "metadata": {},
   "source": [
    "## Learning Process of HATCH"
   ]
  },
  {
   "cell_type": "code",
   "execution_count": null,
   "metadata": {},
   "outputs": [],
   "source": [
    "from bandit import HATCH\n",
    "from evaluation import evaluateRejectionSampling\n",
    "\n",
    "policy = HATCH(nchoices, gmm, J, pai, budget, time, contextdic, state_dim)\n",
    "est_r, ncases = evaluateRejectionSampling(policy, X=state,  a=action, r=reward, online=True)\n"
   ]
  }
 ],
 "metadata": {
  "kernelspec": {
   "display_name": "Python 3",
   "language": "python",
   "name": "python3"
  },
  "language_info": {
   "codemirror_mode": {
    "name": "ipython",
    "version": 3
   },
   "file_extension": ".py",
   "mimetype": "text/x-python",
   "name": "python",
   "nbconvert_exporter": "python",
   "pygments_lexer": "ipython3",
   "version": "3.7.4"
  }
 },
 "nbformat": 4,
 "nbformat_minor": 2
}
