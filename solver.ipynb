{
 "cells": [
  {
   "cell_type": "markdown",
   "metadata": {},
   "source": [
    "## Training Cluster Algorithm GMM for Resourse Allocation"
   ]
  },
  {
   "cell_type": "code",
   "execution_count": 1,
   "metadata": {},
   "outputs": [],
   "source": [
    "import sklearn\n",
    "import io\n",
    "import numpy as np\n",
    "from sklearn.mixture import GaussianMixture\n",
    "\n",
    "'''\n",
    " data: (state, action, reward)\n",
    " J: User class number\n",
    "'''\n",
    "\n",
    "state = np.load('./data/state.npy')\n",
    "action = np.load('./data/action.npy')\n",
    "reward = np.load('./data/reward.npy')\n",
    "J = 10\n",
    "\n",
    "gmm = GaussianMixture(n_components=J).fit(state)\n",
    "means = gmm.means_\n",
    "pai = gmm.weights_\n",
    "\n",
    "contextdic = dict(zip([i for i in range(J)], gmm.means_))"
   ]
  },
  {
   "cell_type": "markdown",
   "metadata": {},
   "source": [
    "## Learning Process of HATCH"
   ]
  },
  {
   "cell_type": "code",
   "execution_count": null,
   "metadata": {},
   "outputs": [],
   "source": [
    "from bandit import HATCH\n",
    "from evaluation import evaluateRejectionSampling\n",
    "\n",
    "'''\n",
    " nchoices: The items number to be recommended\n",
    " gmm: Gaussian Mixture Model\n",
    " J: User class number\n",
    " pai: User class distribution\n",
    " budget: Total resource\n",
    " time: Total round\n",
    " contextdic: The user class projection \n",
    " contextdim: Context dimension\n",
    " est_r: Average CTR\n",
    " ncases: Total rounds\n",
    "'''\n",
    "\n",
    "nchoices = 6\n",
    "J = 10\n",
    "time = 50000\n",
    "budget = 0.5 * time\n",
    "contextdim = 5\n",
    "\n",
    "policy = HATCH(nchoices, gmm, J, pai, budget, time, contextdic, contextdim)\n",
    "est_r, ncases = evaluateRejectionSampling(gmm, policy, X=state,  a=action, r=reward, num=time, online=True)\n"
   ]
  },
  {
   "cell_type": "code",
   "execution_count": null,
   "metadata": {},
   "outputs": [],
   "source": []
  }
 ],
 "metadata": {
  "kernelspec": {
   "display_name": "Python 3",
   "language": "python",
   "name": "python3"
  },
  "language_info": {
   "codemirror_mode": {
    "name": "ipython",
    "version": 3
   },
   "file_extension": ".py",
   "mimetype": "text/x-python",
   "name": "python",
   "nbconvert_exporter": "python",
   "pygments_lexer": "ipython3",
   "version": "3.7.4"
  }
 },
 "nbformat": 4,
 "nbformat_minor": 2
}
